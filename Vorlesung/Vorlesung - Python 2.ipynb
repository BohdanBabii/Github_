{
 "cells": [
  {
   "cell_type": "markdown",
   "metadata": {},
   "source": [
    "# Anweisung"
   ]
  },
  {
   "cell_type": "code",
   "execution_count": 2,
   "metadata": {},
   "outputs": [
    {
     "name": "stdout",
     "output_type": "stream",
     "text": [
      "6\n"
     ]
    }
   ],
   "source": [
    "# man kann einfachen Variablen einen Wert zuweisen und mit ihnen rechnen\n",
    "a = 3\n",
    "a+3"
   ]
  },
  {
   "cell_type": "code",
   "execution_count": 3,
   "metadata": {},
   "outputs": [
    {
     "name": "stdout",
     "output_type": "stream",
     "text": [
      "3\n"
     ]
    }
   ],
   "source": [
    "# weiter kann man variablen oder Text ausdrucken\n",
    "print(a)"
   ]
  },
  {
   "cell_type": "code",
   "execution_count": 5,
   "metadata": {},
   "outputs": [
    {
     "name": "stdout",
     "output_type": "stream",
     "text": [
      "1\n",
      "[1, 2, 3]\n"
     ]
    }
   ],
   "source": [
    "# wir können auch Listen anlegen\n",
    "b = [1,2,3,4]\n",
    "# Werte hinzufügen\n",
    "b.append(5)\n",
    "# Werte löschen\n",
    "b.remove(4)\n",
    "# Elemente an einer bestimmten Stelle löschen, bspw. am Index 3\n",
    "b.pop(3)\n",
    "# Wir können auch auf spezielle Stellen in der Liste zugreifen\n",
    "print(b[0])\n",
    "print(b)"
   ]
  },
  {
   "cell_type": "markdown",
   "metadata": {},
   "source": [
    "# Verzweigungen"
   ]
  },
  {
   "cell_type": "code",
   "execution_count": 7,
   "metadata": {},
   "outputs": [
    {
     "name": "stdout",
     "output_type": "stream",
     "text": [
      "<class 'bool'>\n",
      "c ist wahr\n"
     ]
    }
   ],
   "source": [
    "# Spezielle vergleiche haben den boolean Typ, der boolean Typ ist ein Wahrheitstyp\n",
    "c = True # oder False\n",
    "print(type(c))\n",
    "if c == True:\n",
    "    print(\"c ist wahr\")\n",
    "else:\n",
    "    print(\"c ist falsch\")"
   ]
  },
  {
   "cell_type": "code",
   "execution_count": 10,
   "metadata": {},
   "outputs": [
    {
     "name": "stdout",
     "output_type": "stream",
     "text": [
      "3 ist in [1, 2, 3]\n"
     ]
    }
   ],
   "source": [
    "# Die Bedingungen für diese Verzweigungen können auch komplizierter sein\n",
    "if a in b:\n",
    "    print(a, \"ist in\", b)\n",
    "else:\n",
    "    print(a, \"ist nicht in\", b)"
   ]
  },
  {
   "cell_type": "code",
   "execution_count": 17,
   "metadata": {},
   "outputs": [
    {
     "name": "stdout",
     "output_type": "stream",
     "text": [
      "b ist kleiner als 10 und nicht leer\n",
      "Nach der Verzweigung\n"
     ]
    }
   ],
   "source": [
    "# Verzweigungen können in einander verschachtelt werden\n",
    "if len(b) > 0:\n",
    "    if len(b) < 10:\n",
    "        print(\"b ist kleiner als 10 und nicht leer\")\n",
    "print(\"Nach der Verzweigung\")"
   ]
  },
  {
   "cell_type": "code",
   "execution_count": 12,
   "metadata": {},
   "outputs": [
    {
     "name": "stdout",
     "output_type": "stream",
     "text": [
      "3\n"
     ]
    }
   ],
   "source": [
    "# Verzweigungen mit mehreren Fällen anlegen\n",
    "if a == 1:\n",
    "    print(\"1\")\n",
    "elif a == 2:\n",
    "    print(\"2\")\n",
    "elif a == 3:\n",
    "    print(\"3\")\n",
    "else:\n",
    "    print(a)"
   ]
  },
  {
   "cell_type": "code",
   "execution_count": 13,
   "metadata": {},
   "outputs": [
    {
     "name": "stdout",
     "output_type": "stream",
     "text": [
      "3\n"
     ]
    }
   ],
   "source": [
    "# Man kann den oberen Block auch umschreiben\n",
    "if a == 1:\n",
    "    print(\"1\")\n",
    "else:\n",
    "    if a == 2:\n",
    "        print(\"2\")\n",
    "    else:\n",
    "        if a == 3:\n",
    "            print(\"3\")\n",
    "        else:\n",
    "            (a)"
   ]
  },
  {
   "cell_type": "markdown",
   "metadata": {},
   "source": [
    "# Schleifen"
   ]
  },
  {
   "cell_type": "code",
   "execution_count": 22,
   "metadata": {},
   "outputs": [
    {
     "name": "stdout",
     "output_type": "stream",
     "text": [
      "[1, 2, 3]\n",
      "1\n",
      "2\n",
      "3\n"
     ]
    }
   ],
   "source": [
    "# wir können also über die Elemente einer Liste gehen\n",
    "print(b)\n",
    "for element in b:\n",
    "    print(element)"
   ]
  },
  {
   "cell_type": "code",
   "execution_count": 23,
   "metadata": {},
   "outputs": [
    {
     "name": "stdout",
     "output_type": "stream",
     "text": [
      "1\n",
      "2\n",
      "3\n"
     ]
    }
   ],
   "source": [
    "# wir können die Elemente einer Liste mithilfe der Indizes ansprechen\n",
    "for index in range(len(b)):\n",
    "    print(b[index])"
   ]
  },
  {
   "cell_type": "code",
   "execution_count": 26,
   "metadata": {},
   "outputs": [
    {
     "name": "stdout",
     "output_type": "stream",
     "text": [
      "[0, 1, 2, 3, 4, 5, 6, 7, 8, 9]\n",
      "[1, 2, 3, 4, 5, 6, 7, 8, 9]\n",
      "[0, 2, 4, 6, 8]\n"
     ]
    }
   ],
   "source": [
    "# dazu benötigten wir die range funktion\n",
    "print(list(range(0,10)))\n",
    "print(list(range(1,10)))\n",
    "print(list(range(0,10,2)))"
   ]
  },
  {
   "cell_type": "code",
   "execution_count": 27,
   "metadata": {},
   "outputs": [
    {
     "name": "stdout",
     "output_type": "stream",
     "text": [
      "3 wurde gefunden\n"
     ]
    }
   ],
   "source": [
    "# Schleifen und Verzweigungen beliebig mischen\n",
    "for element in b:\n",
    "    if element == 3:\n",
    "        print(element, \"wurde gefunden\")"
   ]
  },
  {
   "cell_type": "code",
   "execution_count": 30,
   "metadata": {},
   "outputs": [
    {
     "name": "stdout",
     "output_type": "stream",
     "text": [
      "3 wurde gefunden beim index 2\n"
     ]
    }
   ],
   "source": [
    "for index in range(len(b)):\n",
    "    if b[index] == 3:\n",
    "        print(b[index], \"wurde gefunden beim index\", index)"
   ]
  },
  {
   "cell_type": "markdown",
   "metadata": {},
   "source": [
    "# Einlesen und Konvertieren"
   ]
  },
  {
   "cell_type": "code",
   "execution_count": 31,
   "metadata": {},
   "outputs": [
    {
     "name": "stdout",
     "output_type": "stream",
     "text": [
      "Bitte gib eine Zahl ein 3\n",
      "3\n"
     ]
    }
   ],
   "source": [
    "# Wir können in Python auch Werte einlesen mit input\n",
    "d = input(\"Bitte gib eine Zahl ein \")\n",
    "print(d)"
   ]
  },
  {
   "cell_type": "code",
   "execution_count": 33,
   "metadata": {},
   "outputs": [
    {
     "name": "stdout",
     "output_type": "stream",
     "text": [
      "<class 'str'>\n"
     ]
    },
    {
     "ename": "TypeError",
     "evalue": "can only concatenate str (not \"int\") to str",
     "output_type": "error",
     "traceback": [
      "\u001b[1;31m---------------------------------------------------------------------------\u001b[0m",
      "\u001b[1;31mTypeError\u001b[0m                                 Traceback (most recent call last)",
      "\u001b[1;32m<ipython-input-33-f879abf87fec>\u001b[0m in \u001b[0;36m<module>\u001b[1;34m\u001b[0m\n\u001b[0;32m      2\u001b[0m \u001b[0mprint\u001b[0m\u001b[1;33m(\u001b[0m\u001b[0mtype\u001b[0m\u001b[1;33m(\u001b[0m\u001b[0md\u001b[0m\u001b[1;33m)\u001b[0m\u001b[1;33m)\u001b[0m\u001b[1;33m\u001b[0m\u001b[1;33m\u001b[0m\u001b[0m\n\u001b[0;32m      3\u001b[0m \u001b[1;31m# Wir können damit nicht einfach rechnen\u001b[0m\u001b[1;33m\u001b[0m\u001b[1;33m\u001b[0m\u001b[1;33m\u001b[0m\u001b[0m\n\u001b[1;32m----> 4\u001b[1;33m \u001b[0mprint\u001b[0m\u001b[1;33m(\u001b[0m\u001b[0md\u001b[0m \u001b[1;33m+\u001b[0m \u001b[1;36m3\u001b[0m\u001b[1;33m)\u001b[0m\u001b[1;33m\u001b[0m\u001b[1;33m\u001b[0m\u001b[0m\n\u001b[0m",
      "\u001b[1;31mTypeError\u001b[0m: can only concatenate str (not \"int\") to str"
     ]
    }
   ],
   "source": [
    "# Die Werte werden allerdings als String eingelesen\n",
    "print(type(d))\n",
    "# Wir können damit nicht einfach rechnen\n",
    "print(d + 3)"
   ]
  },
  {
   "cell_type": "code",
   "execution_count": 35,
   "metadata": {},
   "outputs": [
    {
     "name": "stdout",
     "output_type": "stream",
     "text": [
      "<class 'int'>\n",
      "<class 'float'>\n",
      "6.0\n"
     ]
    }
   ],
   "source": [
    "# zum Rechnen müssen wir vorher d in eine Zahl umwandeln (bspw in eine ganzzahl (int))\n",
    "d = int(d)\n",
    "print(type(d))\n",
    "# oder in eine Gleitkommazahl (float)\n",
    "d = float(d)\n",
    "print(type(d))\n",
    "print(d+3)"
   ]
  },
  {
   "cell_type": "markdown",
   "metadata": {},
   "source": [
    "# Funktionen"
   ]
  },
  {
   "cell_type": "code",
   "execution_count": 36,
   "metadata": {},
   "outputs": [],
   "source": [
    "# es macht häufig Sinn wiederholende Aufgaben in eine Funktion auszulagern\n",
    "def f(x):\n",
    "    return 2*x**2 + 4*x + 8"
   ]
  },
  {
   "cell_type": "code",
   "execution_count": 42,
   "metadata": {},
   "outputs": [
    {
     "name": "stdout",
     "output_type": "stream",
     "text": [
      "x f(x)\n",
      "0 8\n",
      "1 14\n",
      "2 24\n",
      "3 38\n",
      "4 56\n",
      "5 78\n",
      "6 104\n",
      "7 134\n",
      "8 168\n",
      "9 206\n"
     ]
    }
   ],
   "source": [
    "print(\"x\", \"f(x)\")\n",
    "for x in range(0,10):\n",
    "    print(x, f(x))"
   ]
  },
  {
   "cell_type": "markdown",
   "metadata": {},
   "source": [
    "# Euklidischen Algorithmus"
   ]
  },
  {
   "cell_type": "code",
   "execution_count": 65,
   "metadata": {},
   "outputs": [],
   "source": [
    "def ggt(a,b):\n",
    "    if a < 0 or b < 0:\n",
    "        print(\"Einer der beiden Werte ist kleiner als null!\")\n",
    "        return 0\n",
    "    if a == 0:\n",
    "        ergebnis = b\n",
    "    else:\n",
    "        # while steht für solange und != für ungleich\n",
    "        while b != 0:\n",
    "            if a > b:\n",
    "                a = a-b\n",
    "            else:\n",
    "                b = b-a\n",
    "        ergebnis = a\n",
    "    return ergebnis"
   ]
  },
  {
   "cell_type": "code",
   "execution_count": 70,
   "metadata": {},
   "outputs": [
    {
     "name": "stdout",
     "output_type": "stream",
     "text": [
      "Gib eine erste Zahl ein: 15\n",
      "Gib eine zweite Zahl ein: 2\n",
      "Der ggt von 15 und 2 ist 1\n"
     ]
    }
   ],
   "source": [
    "a = int(input(\"Gib eine erste Zahl ein: \"))\n",
    "b = int(input(\"Gib eine zweite Zahl ein: \"))\n",
    "\n",
    "ergebnis = ggt(a, b)\n",
    "print(\"Der ggt von\", a, \"und\", b, \"ist\", ergebnis)"
   ]
  },
  {
   "cell_type": "markdown",
   "metadata": {},
   "source": [
    "# Numpy\n",
    "Kann mit `pip install numpy` über die Konsole installiert werden. Mit Anaconda kann es durch `conda install numpy` installiert werden."
   ]
  },
  {
   "cell_type": "code",
   "execution_count": 75,
   "metadata": {},
   "outputs": [
    {
     "data": {
      "text/plain": [
       "0.6931471805599453"
      ]
     },
     "execution_count": 75,
     "metadata": {},
     "output_type": "execute_result"
    }
   ],
   "source": [
    "# man kann das package so importieren und benötigt dann den packagenamen um auf die funktionen zuzugreifen\n",
    "import numpy\n",
    "numpy.log(2)"
   ]
  },
  {
   "cell_type": "code",
   "execution_count": 80,
   "metadata": {},
   "outputs": [
    {
     "data": {
      "text/plain": [
       "0.6931471805599453"
      ]
     },
     "execution_count": 80,
     "metadata": {},
     "output_type": "execute_result"
    }
   ],
   "source": [
    "# man kann auch nur spezielle funktionen importieren\n",
    "from numpy import log\n",
    "log(2)"
   ]
  },
  {
   "cell_type": "code",
   "execution_count": 77,
   "metadata": {},
   "outputs": [
    {
     "data": {
      "text/plain": [
       "0.6931471805599453"
      ]
     },
     "execution_count": 77,
     "metadata": {},
     "output_type": "execute_result"
    }
   ],
   "source": [
    "# man kann das package importieren unter einem anderen namen\n",
    "import numpy as np\n",
    "np.log(2)"
   ]
  },
  {
   "cell_type": "code",
   "execution_count": 78,
   "metadata": {},
   "outputs": [
    {
     "data": {
      "text/plain": [
       "1.4142135623730951"
      ]
     },
     "execution_count": 78,
     "metadata": {},
     "output_type": "execute_result"
    }
   ],
   "source": [
    "# numpy kann nun überall mit np benutzt werden\n",
    "np.sqrt(2)"
   ]
  },
  {
   "cell_type": "code",
   "execution_count": 84,
   "metadata": {},
   "outputs": [
    {
     "name": "stdout",
     "output_type": "stream",
     "text": [
      "<class 'numpy.int32'>\n",
      "<class 'numpy.int32'>\n",
      "<class 'numpy.int32'>\n",
      "<class 'numpy.int32'>\n",
      "<class 'numpy.int32'>\n"
     ]
    }
   ],
   "source": [
    "# mit numpy können wir uns arrays anlegen\n",
    "a = np.array([1,2,3,4,6])\n",
    "for i in a:\n",
    "    print(type(i))"
   ]
  },
  {
   "cell_type": "code",
   "execution_count": 87,
   "metadata": {},
   "outputs": [
    {
     "name": "stdout",
     "output_type": "stream",
     "text": [
      "[0.69134679 0.33303161 0.0930463  0.0437336  0.10106268 0.39841507\n",
      " 0.41363225 0.81544874 0.47670221 0.1774926 ]\n"
     ]
    }
   ],
   "source": [
    "# mit numpy könnt ihr auch zufällige Zahlen erzeugen\n",
    "b = np.random.rand(10)\n",
    "print(b)"
   ]
  },
  {
   "cell_type": "code",
   "execution_count": 90,
   "metadata": {},
   "outputs": [],
   "source": [
    "# diese können auch in normale listen umgewandelt werden\n",
    "c = list(b)"
   ]
  },
  {
   "cell_type": "code",
   "execution_count": 91,
   "metadata": {},
   "outputs": [
    {
     "name": "stdout",
     "output_type": "stream",
     "text": [
      "<class 'numpy.ndarray'>\n",
      "<class 'list'>\n"
     ]
    }
   ],
   "source": [
    "# wir sehen hier nochmal dies sind verschiedene typen\n",
    "print(type(b))\n",
    "print(type(c))"
   ]
  },
  {
   "cell_type": "code",
   "execution_count": 93,
   "metadata": {},
   "outputs": [
    {
     "name": "stdout",
     "output_type": "stream",
     "text": [
      "3.543911830886508\n"
     ]
    }
   ],
   "source": [
    "# wir können davon die summe ausrechnen\n",
    "d = 0\n",
    "for i in b:\n",
    "    d = d+i\n",
    "print(d)"
   ]
  },
  {
   "cell_type": "code",
   "execution_count": 94,
   "metadata": {},
   "outputs": [
    {
     "name": "stdout",
     "output_type": "stream",
     "text": [
      "3.543911830886508\n"
     ]
    }
   ],
   "source": [
    "# auch von der liste\n",
    "d = 0\n",
    "for i in c:\n",
    "    d = d+i\n",
    "print(d)"
   ]
  },
  {
   "cell_type": "code",
   "execution_count": 95,
   "metadata": {},
   "outputs": [
    {
     "name": "stdout",
     "output_type": "stream",
     "text": [
      "3.543911830886508\n",
      "3.543911830886508\n"
     ]
    }
   ],
   "source": [
    "# die summe kann auch mit np.sum ausgerechnet werden\n",
    "print(np.sum(b))\n",
    "print(np.sum(c))"
   ]
  },
  {
   "cell_type": "code",
   "execution_count": 104,
   "metadata": {},
   "outputs": [
    {
     "name": "stdout",
     "output_type": "stream",
     "text": [
      "Berechnet in 0.01795196533203125 s\n",
      "Berechnet in 0.7908892631530762 s\n"
     ]
    }
   ],
   "source": [
    "# kleines Experiment zur Berechnung in numpy gemacht\n",
    "from time import time\n",
    "n = 10000000\n",
    "b = np.random.rand(n)\n",
    "c = list(b)\n",
    "start = time()\n",
    "np.sum(b)\n",
    "print(\"Berechnet in\", time()-start, \"s\")\n",
    "start = time()\n",
    "np.sum(c)\n",
    "print(\"Berechnet in\", time()-start, \"s\")"
   ]
  },
  {
   "cell_type": "markdown",
   "metadata": {},
   "source": [
    "# Matplotlib\n",
    "Dies ist eine Bibliothek zum ausdrucken von Funktionen."
   ]
  },
  {
   "cell_type": "code",
   "execution_count": 105,
   "metadata": {},
   "outputs": [],
   "source": [
    "import matplotlib.pyplot as plt"
   ]
  },
  {
   "cell_type": "code",
   "execution_count": 126,
   "metadata": {},
   "outputs": [],
   "source": [
    "x = np.arange(-1000,1000)\n",
    "fx = []\n",
    "for element in x:\n",
    "    fx.append(f(element))\n",
    "fx = np.array(fx)"
   ]
  },
  {
   "cell_type": "code",
   "execution_count": 127,
   "metadata": {},
   "outputs": [
    {
     "data": {
      "text/plain": [
       "[<matplotlib.lines.Line2D at 0x2b61a12ec18>]"
      ]
     },
     "execution_count": 127,
     "metadata": {},
     "output_type": "execute_result"
    },
    {
     "data": {
      "image/png": "[encoded data removed]",
      "text/plain": [
       "<Figure size 432x288 with 1 Axes>"
      ]
     },
     "metadata": {
      "needs_background": "light"
     },
     "output_type": "display_data"
    }
   ],
   "source": [
    "plt.plot(x, fx)"
   ]
  },
  {
   "cell_type": "code",
   "execution_count": null,
   "metadata": {},
   "outputs": [],
   "source": []
  },
  {
   "cell_type": "code",
   "execution_count": null,
   "metadata": {},
   "outputs": [],
   "source": []
  }
 ],
 "metadata": {
  "kernelspec": {
   "display_name": "Python 3",
   "language": "python",
   "name": "python3"
  },
  "language_info": {
   "codemirror_mode": {
    "name": "ipython",
    "version": 3
   },
   "file_extension": ".py",
   "mimetype": "text/x-python",
   "name": "python",
   "nbconvert_exporter": "python",
   "pygments_lexer": "ipython3",
   "version": "3.7.3"
  }
 },
 "nbformat": 4,
 "nbformat_minor": 4
}
